{
 "cells": [
  {
   "cell_type": "markdown",
   "id": "1dcb3568",
   "metadata": {},
   "source": [
    "# Text segmentation using Hidden Markov Models "
   ]
  },
  {
   "cell_type": "markdown",
   "id": "c9394c84",
   "metadata": {},
   "source": [
    "### Task : automatic segmentation of mails, problem statement"
   ]
  },
  {
   "cell_type": "markdown",
   "id": "35ace746",
   "metadata": {},
   "source": [
    "This Lab aims to build an email segmentation tool, dedicated to separate the email header from its\n",
    "body. It is proposed to perform this task by learning a HMM (A, B, π) with two states, one (state 1) for\n",
    "the header, the other (state 2) for the body. In this model, it is assumed that each mail actually contains\n",
    "a header : the decoding necessarily begins in the state 1."
   ]
  },
  {
   "cell_type": "markdown",
   "id": "d69d7188",
   "metadata": {},
   "source": [
    "#### Loading data"
   ]
  },
  {
   "cell_type": "code",
   "execution_count": 2,
   "id": "467ef654",
   "metadata": {},
   "outputs": [],
   "source": [
    "import os.path as op\n",
    "import re \n",
    "import numpy as np\n",
    "import matplotlib.pyplot as plt"
   ]
  },
  {
   "cell_type": "code",
   "execution_count": 3,
   "id": "8d5b13ad",
   "metadata": {},
   "outputs": [],
   "source": [
    "B = np.loadtxt('PerlScriptAndModel/P.dat')\n",
    "A = np.array([[0.999218078035812,0.000781921964187974],[0,1]])"
   ]
  },
  {
   "cell_type": "markdown",
   "id": "76e5e2ec",
   "metadata": {},
   "source": [
    "#### Q1 : Give the value of the π vector of the initial probabilities"
   ]
  },
  {
   "cell_type": "markdown",
   "id": "e787fc84",
   "metadata": {},
   "source": [
    "Since the decoding necessarily begins in the state 1, the vector of initial probabilities π = [1,0]."
   ]
  },
  {
   "cell_type": "code",
   "execution_count": 4,
   "id": "b5dcfeae",
   "metadata": {},
   "outputs": [
    {
     "data": {
      "text/plain": [
       "array([1, 0])"
      ]
     },
     "execution_count": 4,
     "metadata": {},
     "output_type": "execute_result"
    }
   ],
   "source": [
    "pi = [1,0]\n",
    "pi = np.array(pi)\n",
    "pi"
   ]
  },
  {
   "cell_type": "markdown",
   "id": "61b71e95",
   "metadata": {},
   "source": [
    "The transition matrix (A(i, j) = P(j|i)) estimated on a labeled small corpus has the\n",
    "following form : \n",
    "A =\\begin{pmatrix}\n",
    "0.999218078035812 & 0.000781921964187974\\\\\n",
    "0 & 1\n",
    "\\end{pmatrix}  \n"
   ]
  },
  {
   "cell_type": "markdown",
   "id": "d80cdb32",
   "metadata": {},
   "source": [
    "#### Q2 : What is the probability to move from state 1 to state 2 ? What is the probability to remain in state 2 ? What is the lower/higher probability ? Try to explain why."
   ]
  },
  {
   "cell_type": "markdown",
   "id": "344019a4",
   "metadata": {},
   "source": [
    "Given A, the probability to move from state 1 to state 2 is 0.000781921964187974, then the probability to remain in 2 is 1 as you can't go back to the header once you're in the body of the email. This is why the highest probability is 1 for the transition 2->2 and the lowest probability is 0 for the transition 2->1.\n"
   ]
  },
  {
   "cell_type": "markdown",
   "id": "44fcefe5",
   "metadata": {},
   "source": [
    "A mail is represented by a sequence of characters. Let N be the number of different characters. Each\n",
    "part of the mail is characterized by a discrete probability distribution on the characters P(c|s), with s = 1\n",
    "or s = 2.\n",
    "#### Q3 : What is the size of B ?"
   ]
  },
  {
   "cell_type": "code",
   "execution_count": 5,
   "id": "27406db0",
   "metadata": {},
   "outputs": [
    {
     "name": "stdout",
     "output_type": "stream",
     "text": [
      "The size of B is 512 .\n"
     ]
    }
   ],
   "source": [
    "print('The size of B is',B.size,'.') "
   ]
  },
  {
   "cell_type": "markdown",
   "id": "ba44db8b",
   "metadata": {},
   "source": [
    "This can be explained by the fact that there are 2 states and 256 characters, so B has 2 columns and 256 lines. The size is then 2 x 256."
   ]
  },
  {
   "cell_type": "markdown",
   "id": "5b4b6dd7",
   "metadata": {},
   "source": [
    "### Material"
   ]
  },
  {
   "cell_type": "markdown",
   "id": "15b15892",
   "metadata": {},
   "source": [
    "##### Coding/decoding mails"
   ]
  },
  {
   "cell_type": "markdown",
   "id": "ad0718f5",
   "metadata": {},
   "source": [
    "Emails are represented as ASCII character vectors.\n",
    "In dat.zip, mail.txt can be transformed into a vector of numbers (between 0 and 255) (one vector per\n",
    "line) in a text ;\n",
    "Files of the form dat/*.dat contain the already encoded versions of the corresponding mails. The list\n",
    "is in mail.lst.\n",
    "Use the command np.loadtxt to load the dat files."
   ]
  },
  {
   "cell_type": "code",
   "execution_count": 6,
   "id": "305eca98",
   "metadata": {},
   "outputs": [],
   "source": [
    "dat = []\n",
    "for i in range(11,31):\n",
    "    dat.append(np.loadtxt(\"dat/mail\" + str(i) + \".dat\", dtype=int))\n"
   ]
  },
  {
   "cell_type": "markdown",
   "id": "6203eddb",
   "metadata": {},
   "source": [
    "##### Distribution files"
   ]
  },
  {
   "cell_type": "markdown",
   "id": "41ea15f1",
   "metadata": {},
   "source": [
    "For the first part of the Lab, we work with the distributions that are provided in the P.text file.\n",
    "Each of the columns of this file contains the distribution of the probabilities of occurrence of each\n",
    "character of the ASCII codes respectively in the header and in the body. These distributions were learned\n",
    "on a small corpus labeled with 10 emails ; there are obvious differences, especially in areas where ASCII\n",
    "codes correspond to alphabetic characters, as you can see by viewing these distributions."
   ]
  },
  {
   "cell_type": "markdown",
   "id": "3649f28c",
   "metadata": {},
   "source": [
    "#####  Viterbi algorithm"
   ]
  },
  {
   "cell_type": "code",
   "execution_count": 7,
   "id": "b6f9fdba",
   "metadata": {},
   "outputs": [],
   "source": [
    "A=[[\n",
    "0.999218078035812,0.000781921964187974],[0,1]]\n",
    "\n",
    "B=np.loadtxt(\"PerlScriptAndModel/P.text\")\n",
    "\n",
    "pi=[1.0,np.finfo(np.double).tiny]"
   ]
  },
  {
   "cell_type": "code",
   "execution_count": 8,
   "id": "4948291e",
   "metadata": {},
   "outputs": [],
   "source": [
    "def viterbi(V,pi,A,P):\n",
    "    \n",
    "    #initialization \n",
    "    \n",
    "    T=len(V)\n",
    "    minlog = np.finfo(np.double).tiny\n",
    "    \n",
    "    pi=np.log(pi+minlog)\n",
    "    P=np.log(P+minlog)\n",
    "    A=np.log(A+minlog)\n",
    "    \n",
    "    delta=np.zeros((2,T))\n",
    "    phi=np.zeros((2,T))\n",
    "    \n",
    "    for i in range(2):\n",
    "         delta[i,0]=pi[i]+P[V[0],i]\n",
    "    \n",
    "    #recursion\n",
    "    \n",
    "    for t in range(1,T):\n",
    "        for j in range(2):\n",
    "            delta[j,t]=P[V[t],j]+max(A[0][j]+delta[0,t-1],A[1][j]+delta[1,t-1])\n",
    "            if A[0][j]+delta[0,t-1]<=A[1][j]+delta[1,t-1]:\n",
    "                phi[j,t]=1\n",
    "            else:\n",
    "                phi[j,t]=0\n",
    "    \n",
    "    #termination\n",
    "    \n",
    "    Z=np.zeros(T)\n",
    "    \n",
    "    if delta[0,T-1]<=delta[1,T-1]:\n",
    "        Z[T-1]=1\n",
    "    else:\n",
    "        Z[T-1]=0\n",
    "    \n",
    "    for j in range(T-2,-1,-1):\n",
    "        Z[j]=phi[int(Z[j+1]),j+1]\n",
    "    \n",
    "    return Z+np.ones(len(Z))\n"
   ]
  },
  {
   "cell_type": "code",
   "execution_count": 9,
   "id": "05f53012",
   "metadata": {},
   "outputs": [
    {
     "name": "stdout",
     "output_type": "stream",
     "text": [
      "[1. 1. 1. ... 2. 2. 2.]\n"
     ]
    }
   ],
   "source": [
    "#We verify that the algorithm works with a random email\n",
    "\n",
    "print(viterbi(dat[23-11],pi,A,B))"
   ]
  },
  {
   "cell_type": "markdown",
   "id": "01176095",
   "metadata": {},
   "source": [
    "#### Q4 : print the track and present and discuss the results obtained on mail11.txt to mail30.txt"
   ]
  },
  {
   "cell_type": "code",
   "execution_count": 10,
   "id": "7645f06b",
   "metadata": {},
   "outputs": [],
   "source": [
    "track = []\n",
    "for i in range(11,31):\n",
    "    track.append(viterbi(dat[i-11],pi,A,B))"
   ]
  },
  {
   "cell_type": "markdown",
   "id": "c9f73b07",
   "metadata": {},
   "source": [
    "##### Visualizing segmentation"
   ]
  },
  {
   "cell_type": "code",
   "execution_count": 20,
   "id": "c9351742",
   "metadata": {},
   "outputs": [],
   "source": [
    "i = 23\n",
    "path1 = np.savetxt('path1.txt',track[i-11],'%d',newline='')\n"
   ]
  },
  {
   "cell_type": "code",
   "execution_count": 21,
   "id": "a6cb449e",
   "metadata": {
    "scrolled": false
   },
   "outputs": [
    {
     "name": "stdout",
     "output_type": "stream",
     "text": [
      "111111111111111111111111111111111111111111111111111111111111111111111111111111111111111111111111111111111111111111111111111111111111111111111111111111111111111111111111111111111111111111111111111111111111111111111111111111111111111111111111111111111111111111111111111111111111111111111111111111111111111111111111111111111111111111111111111111111111111111111111111111111111111111111111111111111111111111111111111111111111111111111111111111111111111111111111111111111111111111111111111111111111111111111111111111111111111111111111111111111111111111111111111111111111111111111111111111111111111111111111111111111111111111111111111111111111111111111111111111111111111111111111111111111111111111111111111111111111111111111111111111111111111111111111111111111111111111111111111111111111111111111111111111111111111111111111111111111111111111111111111111111111111111111111111111111111111111111111111111111111111111111111111111111111111111111111111111111111111111111111111111111111111111111111111111111111111111111111111111111111111111111111111111111111111111111111111111111111111111111111111111111111111111111111111111111111111111111111111111111111111111111111111111111111111111111111111111111111111111111111111111111111111111111111111111111111111111111111111111111111111111111111111111111111111111111111111111111111111111111111111111111111111111111111111111111111111111111111111111111111111111111111111111111111111111111111111111111111111111111111111111111111111111111111111111111111111111111111111111111111111111111111111111111111111111111111111111111111111111111111111111111111111111111111111111111111111111111111111111111111111111111111111111111111111111111111111111111111111111111111111111111111111111111111111111111111111111111111111111111111111111111111111111111111111111111111111111111111111111111111111111111111111111111111111111111111111111111111111111111111111111111111111111111111111111111111111111111111111111111111111111111111111111111111111111111111111111111111111111111111111111111111111111111111111111111111111111111111111111111111111111111111111111111111111111111111111111111111111111111111111111111111111111111111111111111111111111111111111111111111111111112222222222222222222222222222222222222222222222222222222222222222222222222222222222222222222222222222222222222222222222222222222222222222222222222222222222222222222222222222222222222222222222222222222222222222222222222222222222222222222222222222222222222222222222222222222222222222222222222222222222222222222222222222222222222222222222222222222222222222222222222222222222222222222222222222222222222222222222222222222222222222222222222222222222222222222222222222222222222222222222222222222222222222222222222222222222222222222222222222222222222222222222222222222222222222222222222222222222222222222222222222222222222222222222222222222222222222222222222222222222222222222222222222222222222222222222222222222222222222222222222222222222222222222222222222222222222222222222222222222222222222222222222222222222222222222222222222222222222222222222222222222222222222222222222222222222222222222222222222222222222222222222222222222222222222222222222222222222222222222222222222222222222222222222222222222222222222222222222222222222222222222222222222222222222222222222222222222222222222222222222222222222222222222222222222222222222222222222222222222222222222222222222222222222222222222222222222222222222222222222222222222222222222222222222222222222222222222222222222222222222222222222222222222222222222222222222222222222222222222222222222222222222222222222222222222222222222222222222222222222222222222222222222222222222222222222222222222222222222222222222222222222222222222222222222222222222222222222222222222222222222222222222222222222222222222222222222222222222222222222222222222222222222222222111111111111111111111111111111111111111111111111111111111111111111111111111111111111111111111111111111111111111111111111111111111111111111111111111111111111111111111111111111111111111111111111111111111111111111111111111111111111111111111111111111111111111111111111111111111111111111111111111111111111111111111111111111111111111111111111111111111111111111111111111111111111111111111111111111111111111111111111111111111111111111111111111111111111111111111111111111111111111111111111111111111111111111111111111111111111111111111111111111111111111111111111111111111111111111111111111111111111111111111111111111111111111111111111111111111111111111111111111111111111111111111111111111111111111111111111111111111111111111111111111111111111111111111111111111111111111111111111111111111111111111111111111111111111111111111111111111111111111111111111111111111111111111111111111111111111111111111111111111111111111111111111111111111111111111111111111111111111111111111111111111111111111111111111111111111111111111111111111111111111111111111111111111111111111111111111111111111111111111111111111111111111111111111111111111111111111111111111111111111111111111111111111111111111111111111111111111111111111111111111111111111111111111111111111111111111111111111111111111111111111111111111111111111111111111111111111111111111111111111111111111111111111111111111111111111111111111111111111111111111111111111111111111111111111111111111111111111111111111111111111111111111111111111111111111111111111111111111111111111111111111111111111111111111111111111111111111111111111111111111111111111111111111111111111111111111111111111111111111111111111111111111111111111111111111111111111111111111111111111111111111111111111111111111111111111111111111111111111111111111111111111111111111111111111111111111111111111111111111111111111111111111111111111111111111111111111111111111111111111111111111111111111111111111111111111111111111111111111111111111111111111111111111111111111111111111111111111111111111111111111111111111111111111111111111111111111111111111111111111111111111111111111111111111111111111111111111111111111111111111111111111111111111111111111111111111111111111111111111111111111111112222222222222222222222222222222222222222222222222222222222222222222222222222222222222222222222222222222222222222222222222222222222222222222222222222222222222222222222222222222222222222222222222222222222222222222222222222222222222222222222222222222222222222222222222222222222222222222222222222222222222222222222222222222222222222222222222222222222222222222222222222222222222222222222222222222222222222222222222222222222222222222222222222222222222222222222222222222222222222222222222222222222222222222222222222222222222222222222222222222222222222222222222222222222222222222222222222222222222222222222222222222222222222222222222222222222222222222222222222222222222222222222222222222222222222222222222222222222222222222222222222222222222222222222222222222222222222222222222222222222222222222222222222222222222222222222222222222222222222222222222222222222222222222222222222222222222222222222222222222222222222222222222222222222222222222222222222222222222222222222222222222222222222222222222222222222222222222222222222222222222222222222222222222222222222222222222222222222222222222222222222222222222222222222222222222222222222222222222222222222222222222222222222222222222222222222222222222222222222222222222222222222222222222222222222222222222222222222222222222222222222222222222222222222222222222222222222222222222222222222222222222222222222222222222222222222222222222222222222222222222222222222222222222222222222222222222222222222222222222222222222222222222222222222222222222222222222222222222222222222222222222222222222222222222222222222222222222222222222222222222222222222222222222222\n",
      "From ilug-admin@linux.ie  Thu Aug 22 17:45:54 2002\n",
      "Return-Path: <ilug-admin@linux.ie>\n",
      "Delivered-To: zzzz@localhost.netnoteinc.com\n",
      "Received: from localhost (localhost [127.0.0.1])\n",
      "\tby phobos.labs.netnoteinc.com (Postfix) with ESMTP id E8B1343F9B\n",
      "\tfor <zzzz@localhost>; Thu, 22 Aug 2002 12:45:53 -0400 (EDT)\n",
      "Received: from phobos [127.0.0.1]\n",
      "\tby localhost with IMAP (fetchmail-5.9.0)\n",
      "\tfor zzzz@localhost (single-drop); Thu, 22 Aug 2002 17:45:53 +0100 (IST)\n",
      "Received: from lugh.tuatha.org (root@lugh.tuatha.org [194.125.145.45]) by\n",
      "    dogma.slashnull.org (8.11.6/8.11.6) with ESMTP id g7MGjVZ15193 for\n",
      "    <zzzz-ilug@spamassassin.taint.org>; Thu, 22 Aug 2002 17:45:31 +0100\n",
      "Received: from lugh (root@localhost [127.0.0.1]) by lugh.tuatha.org\n",
      "    (8.9.3/8.9.3) with ESMTP id RAA11100; Thu, 22 Aug 2002 17:42:54 +0100\n",
      "Received: from corvil.com. (k100-159.bas1.dbn.dublin.eircom.net\n",
      "    [159.134.100.159]) by lugh.tuatha.org (8.9.3/8.9.3) with ESMTP id RAA11076\n",
      "    for <ilug@linux.ie>; Thu, 22 Aug 2002 17:42:46 +0100\n",
      "X-Authentication-Warning: lugh.tuatha.org: Host k100-159.bas1.dbn.dublin.eircom.net\n",
      "    [159.134.100.159] claimed to be corvil.com.\n",
      "Received: from corvil.com (pixelbeat.local.corvil.com [172.18.1.170]) by\n",
      "    corvil.com. (8.12.5/8.12.5) with ESMTP id g7MGgjn4090705 for\n",
      "    <ilug@linux.ie>; Thu, 22 Aug 2002 17:42:46 +0100 (IST) (envelope-from\n",
      "    padraig.brady@corvil.com)\n",
      "Message-Id: <3D651472.7080101@corvil.com>\n",
      "Date: Thu, 22 Aug 2002 17:42:26 +0100\n",
      "From: Padraig Brady <padraig.brady@corvil.com>\n",
      "Organization: Corvil Networks\n",
      "User-Agent: Mozilla/5.0 (X11; U; Linux i686; en-US; rv:0.9.9) Gecko/20020408\n",
      "X-Accept-Language: en-us, en\n",
      "MIME-Version: 1.0\n",
      "To: ilug@linux.ie\n",
      "Subject: Re: [ILUG] Sun Solaris..\n",
      "References: <45130FBE2F203649A4BABDB848A9C9D00E9C8A@enterprise.wasptech.com>\n",
      "    <20020822163641.GN3670@jinny.ie>\n",
      "Content-Type: text/plain; charset=ISO-8859-1; format=flowed\n",
      "Content-Transfer-Encoding: 8bit\n",
      "Sender: ilug-admin@linux.ie\n",
      "Errors-To: ilug-admin@linux.ie\n",
      "X-Mailman-Version: 1.1\n",
      "Precedence: bulk\n",
      "List-Id: Irish Linux Users' Group <ilug.linux.ie>\n",
      "X-Beenthere: ilug@linux.ie\n",
      "\n",
      "John P. Looney wrote:\n",
      "> On Thu, Aug 22, 2002 at 05:13:01PM +0100\n",
      "========================== coupez ici ==========================\n",
      ", Fergal Moran mentioned:\n",
      "> \n",
      ">>In a nutshell - Solaris is Suns own flavour of UNIX.\n",
      "> \n",
      "> \n",
      ">  Though I'm sure that this nice person would like a bit more detail.\n",
      "> \n",
      ">  Solaris is quite different to Linux, though these days you can make\n",
      "> solaris act a lot like linux with an extra CD of GNU tools Sun ship with\n",
      "> solaris. It is based on the SysV unix family, so it's quite similar to\n",
      "> other unixen like HPUX and SCO.\n",
      "> \n",
      ">  Sun's hardware in general is more reliable, and a lot more expensive. One\n",
      "> of the main bonuses you get by buying Sun is that you are getting your\n",
      "> hardware and software from one company, so if you have a support contract,\n",
      "> they have to fix it. They can't fob you off with 'that's a software\n",
      "> problem, talk to the software vendor.' etc.\n",
      "> \n",
      ">  If you are set on Linux, you most likely can do your own support. There\n",
      "> is then a world of different hardware options. You can run Linux on Sparc,\n",
      "> though some companies like RedHat don't maintain a sparc port anymore.\n",
      "> \n",
      ">  You can also buy your machine from linux-oriented companies like DNUK,\n",
      "> who do machines designed to run linux, and their own version of linux,\n",
      "> that has a few extras for their machines. Or, you can get a machine from a\n",
      "> cheaper company like Dell, and it'll most likely work, most of the time.\n",
      "\n",
      "Why do you say Dell is cheaper than DNUK?\n",
      "\n",
      "It gets a bit complicated though!\n",
      "http://www.levenez.com/unix/history.html\n",
      "\n",
      "P�draig.\n",
      "\n",
      "\n",
      "-- \n",
      "Irish Linux Users' Group: ilug@linux.ie\n",
      "http://www.linux.ie/mailman/listinfo/ilug for (un)subscription information.\n",
      "List maintainer: listmaster@linux.ie\n",
      "\n"
     ]
    }
   ],
   "source": [
    "!cd PerlScriptAndModel/; perl segment.pl ../dat/mail23.txt ../path1.txt"
   ]
  },
  {
   "cell_type": "markdown",
   "id": "721bc836",
   "metadata": {},
   "source": [
    "##### Discussion on the results and the method :"
   ]
  },
  {
   "cell_type": "markdown",
   "id": "f7a82b38",
   "metadata": {},
   "source": [
    "Let's see how performant the segmenter is. We are going to look at the mails between 10 and 31 one by one and arbitrarily, we are going to mark a 0 if the separation is corect, a -1 if it's too early and a 1 if it's late."
   ]
  },
  {
   "cell_type": "code",
   "execution_count": 189,
   "id": "f0084df3",
   "metadata": {
    "scrolled": true
   },
   "outputs": [
    {
     "data": {
      "image/png": "[encoded data removed]",
      "text/plain": [
       "<Figure size 720x504 with 1 Axes>"
      ]
     },
     "metadata": {
      "needs_background": "light"
     },
     "output_type": "display_data"
    }
   ],
   "source": [
    "Performance = [0,0,-1,1,1,0,1,1,-1,-1,-1,-1,-1,-1,-1,0,-1,1,0,-1]\n",
    "\n",
    "fig, ax = plt.subplots(figsize =(10, 7))\n",
    "ax.hist(Performance)\n",
    "plt.xlabel(\"Cut of the segmenter\")\n",
    "plt.ylabel(\"Number of mails\")\n",
    "plt.title('Performance of the segmenter')\n",
    " \n",
    "# Show plot\n",
    "plt.show()\n",
    "    "
   ]
  },
  {
   "cell_type": "markdown",
   "id": "4e97e647",
   "metadata": {},
   "source": [
    "With the histogram above, we can see that the segmenter is only correct 25% of the time. It's early 50% of the time and late 25% of the time. We'd like to note that even when it's not correct, it's not very far from the real cut. There is often a problem with the date and mentioning, meaning when the emails are forwarded and the symbol '>' is being used."
   ]
  },
  {
   "cell_type": "markdown",
   "id": "f613bae7",
   "metadata": {},
   "source": [
    "### Further questions"
   ]
  },
  {
   "cell_type": "markdown",
   "id": "3fecabb7",
   "metadata": {},
   "source": [
    "#### Q5 : How would you model the problem if you had to segment the mails in more than two parts (for example : header, body, signature) ?"
   ]
  },
  {
   "cell_type": "markdown",
   "id": "bdd3420b",
   "metadata": {},
   "source": [
    "In general, the viterbi algorithm can work with a set of states of any size. Thus we would use the same algorithm. We just need new matrix A, P and pi.\n",
    "\n",
    "We can take $\\pi=(1$ $0$ $0)$ if we still suppose that every mail contains and begins by a header.\n",
    "\n",
    "P can be learn with a set of train mails as in the previous exemple.\n",
    "\n",
    "To know A, we need the probability to go from state 1 to state 2 (let denote it $\\alpha$) and from state 2 to state 3 (let denote it $\\beta$).\n",
    "\n",
    "Then we will have if we suppose that it's impossible to go directly from header to signature:\n",
    "\n",
    "$A=\\begin{bmatrix} \n",
    "\t1-\\alpha & \\alpha & 0 \\\\\n",
    "\t0 & 1-\\beta & \\beta\\\\\n",
    "\t0 & 0 & 1 \\\\\n",
    "\t\\end{bmatrix}$"
   ]
  },
  {
   "cell_type": "markdown",
   "id": "d5b04db7",
   "metadata": {},
   "source": [
    "#### Q6 : How would you model the problem of separating the portions of mail included, knowing that they always start with the character \">\"."
   ]
  },
  {
   "cell_type": "markdown",
   "id": "74861971",
   "metadata": {},
   "source": [
    "This problem could be soved in the same way than in the question 5, with A of shape 4x4 : header, mail included (marked with >), body, signature. The possible changes are :\n",
    "\n",
    "-From header to header, mail included or body\n",
    "\n",
    "-From mail included to mail included, body or signature\n",
    "\n",
    "-From body to mail included, body or signature\n",
    "\n",
    "-From signature to signature\n",
    "\n",
    "Then the matrix A is $A=\\begin{bmatrix} \n",
    "\t1-\\alpha_1-\\alpha_2 & \\alpha_1 & \\alpha_2 & 0 \\\\\n",
    "\t0 & 1-\\beta_1-\\beta_2 & \\beta_1 & \\beta_2\\\\\n",
    "\t0 & 0 & 0 & 1 \\\\\n",
    "\t\\end{bmatrix}$\n",
    "    \n",
    " Another solution would be to use two Viterbi algorithms following each other : the first one separating header, general body, signature and the second one separating normal text and lines beggining with '>'."
   ]
  },
  {
   "cell_type": "markdown",
   "id": "5c767e49",
   "metadata": {},
   "source": [
    "### BONUS : Unsupervised learning"
   ]
  },
  {
   "cell_type": "markdown",
   "id": "37922f5c",
   "metadata": {},
   "source": [
    "We now propose to implement the necessary bricks for the unsupervised learning of the parameters\n",
    "of the model.\n",
    "1. Program the alpha calculation. "
   ]
  }
 ],
 "metadata": {
  "kernelspec": {
   "display_name": "Python 3",
   "language": "python",
   "name": "python3"
  },
  "language_info": {
   "codemirror_mode": {
    "name": "ipython",
    "version": 3
   },
   "file_extension": ".py",
   "mimetype": "text/x-python",
   "name": "python",
   "nbconvert_exporter": "python",
   "pygments_lexer": "ipython3",
   "version": "3.8.8"
  }
 },
 "nbformat": 4,
 "nbformat_minor": 5
}
